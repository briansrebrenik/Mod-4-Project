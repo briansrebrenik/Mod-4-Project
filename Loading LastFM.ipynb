{
 "cells": [
  {
   "cell_type": "code",
   "execution_count": 1,
   "metadata": {},
   "outputs": [],
   "source": [
    "import pandas as pd\n",
    "import numpy as np"
   ]
  },
  {
   "cell_type": "code",
   "execution_count": 2,
   "metadata": {},
   "outputs": [
    {
     "name": "stderr",
     "output_type": "stream",
     "text": [
      "b'Skipping line 2120260: expected 6 fields, saw 8\\n'\n",
      "b'Skipping line 2446318: expected 6 fields, saw 8\\n'\n",
      "b'Skipping line 11141081: expected 6 fields, saw 8\\n'\n",
      "b'Skipping line 11152099: expected 6 fields, saw 12\\nSkipping line 11152402: expected 6 fields, saw 8\\n'\n",
      "b'Skipping line 11882087: expected 6 fields, saw 8\\n'\n",
      "b'Skipping line 12902539: expected 6 fields, saw 8\\nSkipping line 12935044: expected 6 fields, saw 8\\n'\n",
      "b'Skipping line 17589539: expected 6 fields, saw 8\\n'\n"
     ]
    }
   ],
   "source": [
    "df = pd.read_csv('./lastfm-dataset-1K/userid-timestamp-artid-artname-traid-traname.tsv', sep='\\t', error_bad_lines=False, header=None)"
   ]
  },
  {
   "cell_type": "code",
   "execution_count": 3,
   "metadata": {},
   "outputs": [],
   "source": [
    "df1 = pd.read_csv('./lastfm-dataset-1K/userid-profile.tsv', sep='\\t', error_bad_lines=False, header=None)"
   ]
  },
  {
   "cell_type": "code",
   "execution_count": 4,
   "metadata": {},
   "outputs": [
    {
     "data": {
      "text/plain": [
       "19098853"
      ]
     },
     "execution_count": 4,
     "metadata": {},
     "output_type": "execute_result"
    }
   ],
   "source": [
    "len(df)"
   ]
  },
  {
   "cell_type": "code",
   "execution_count": 5,
   "metadata": {},
   "outputs": [
    {
     "data": {
      "text/html": [
       "<div>\n",
       "<style scoped>\n",
       "    .dataframe tbody tr th:only-of-type {\n",
       "        vertical-align: middle;\n",
       "    }\n",
       "\n",
       "    .dataframe tbody tr th {\n",
       "        vertical-align: top;\n",
       "    }\n",
       "\n",
       "    .dataframe thead th {\n",
       "        text-align: right;\n",
       "    }\n",
       "</style>\n",
       "<table border=\"1\" class=\"dataframe\">\n",
       "  <thead>\n",
       "    <tr style=\"text-align: right;\">\n",
       "      <th></th>\n",
       "      <th>0</th>\n",
       "      <th>1</th>\n",
       "      <th>2</th>\n",
       "      <th>3</th>\n",
       "      <th>4</th>\n",
       "      <th>5</th>\n",
       "    </tr>\n",
       "  </thead>\n",
       "  <tbody>\n",
       "    <tr>\n",
       "      <th>0</th>\n",
       "      <td>user_000001</td>\n",
       "      <td>2009-05-04T23:08:57Z</td>\n",
       "      <td>f1b1cf71-bd35-4e99-8624-24a6e15f133a</td>\n",
       "      <td>Deep Dish</td>\n",
       "      <td>NaN</td>\n",
       "      <td>Fuck Me Im Famous (Pacha Ibiza)-09-28-2007</td>\n",
       "    </tr>\n",
       "    <tr>\n",
       "      <th>1</th>\n",
       "      <td>user_000001</td>\n",
       "      <td>2009-05-04T13:54:10Z</td>\n",
       "      <td>a7f7df4a-77d8-4f12-8acd-5c60c93f4de8</td>\n",
       "      <td>坂本龍一</td>\n",
       "      <td>NaN</td>\n",
       "      <td>Composition 0919 (Live_2009_4_15)</td>\n",
       "    </tr>\n",
       "    <tr>\n",
       "      <th>2</th>\n",
       "      <td>user_000001</td>\n",
       "      <td>2009-05-04T13:52:04Z</td>\n",
       "      <td>a7f7df4a-77d8-4f12-8acd-5c60c93f4de8</td>\n",
       "      <td>坂本龍一</td>\n",
       "      <td>NaN</td>\n",
       "      <td>Mc2 (Live_2009_4_15)</td>\n",
       "    </tr>\n",
       "    <tr>\n",
       "      <th>3</th>\n",
       "      <td>user_000001</td>\n",
       "      <td>2009-05-04T13:42:52Z</td>\n",
       "      <td>a7f7df4a-77d8-4f12-8acd-5c60c93f4de8</td>\n",
       "      <td>坂本龍一</td>\n",
       "      <td>NaN</td>\n",
       "      <td>Hibari (Live_2009_4_15)</td>\n",
       "    </tr>\n",
       "    <tr>\n",
       "      <th>4</th>\n",
       "      <td>user_000001</td>\n",
       "      <td>2009-05-04T13:42:11Z</td>\n",
       "      <td>a7f7df4a-77d8-4f12-8acd-5c60c93f4de8</td>\n",
       "      <td>坂本龍一</td>\n",
       "      <td>NaN</td>\n",
       "      <td>Mc1 (Live_2009_4_15)</td>\n",
       "    </tr>\n",
       "  </tbody>\n",
       "</table>\n",
       "</div>"
      ],
      "text/plain": [
       "             0                     1                                     2  \\\n",
       "0  user_000001  2009-05-04T23:08:57Z  f1b1cf71-bd35-4e99-8624-24a6e15f133a   \n",
       "1  user_000001  2009-05-04T13:54:10Z  a7f7df4a-77d8-4f12-8acd-5c60c93f4de8   \n",
       "2  user_000001  2009-05-04T13:52:04Z  a7f7df4a-77d8-4f12-8acd-5c60c93f4de8   \n",
       "3  user_000001  2009-05-04T13:42:52Z  a7f7df4a-77d8-4f12-8acd-5c60c93f4de8   \n",
       "4  user_000001  2009-05-04T13:42:11Z  a7f7df4a-77d8-4f12-8acd-5c60c93f4de8   \n",
       "\n",
       "           3    4                                           5  \n",
       "0  Deep Dish  NaN  Fuck Me Im Famous (Pacha Ibiza)-09-28-2007  \n",
       "1       坂本龍一  NaN           Composition 0919 (Live_2009_4_15)  \n",
       "2       坂本龍一  NaN                        Mc2 (Live_2009_4_15)  \n",
       "3       坂本龍一  NaN                     Hibari (Live_2009_4_15)  \n",
       "4       坂本龍一  NaN                        Mc1 (Live_2009_4_15)  "
      ]
     },
     "execution_count": 5,
     "metadata": {},
     "output_type": "execute_result"
    }
   ],
   "source": [
    "df.head()"
   ]
  },
  {
   "cell_type": "code",
   "execution_count": 6,
   "metadata": {},
   "outputs": [
    {
     "data": {
      "text/plain": [
       "0          0\n",
       "1          0\n",
       "2     600848\n",
       "3          0\n",
       "4    2162719\n",
       "5         12\n",
       "dtype: int64"
      ]
     },
     "execution_count": 6,
     "metadata": {},
     "output_type": "execute_result"
    }
   ],
   "source": [
    "df.isna().sum()"
   ]
  },
  {
   "cell_type": "code",
   "execution_count": 7,
   "metadata": {},
   "outputs": [],
   "source": [
    "df.rename(columns={0: 'user_id', 1: 'timestamp', 2: 'abc', 3: 'artist', 4: 'album', 5: 'song'}, inplace=True)"
   ]
  },
  {
   "cell_type": "code",
   "execution_count": 8,
   "metadata": {},
   "outputs": [],
   "source": [
    "df.drop(columns=['abc', 'album'], inplace=True)"
   ]
  },
  {
   "cell_type": "code",
   "execution_count": 9,
   "metadata": {},
   "outputs": [],
   "source": [
    "test = df"
   ]
  },
  {
   "cell_type": "code",
   "execution_count": 10,
   "metadata": {},
   "outputs": [],
   "source": [
    "test2 = pd.pivot_table(test, values='artist', index=['user_id', 'song', 'artist'], aggfunc=np.count_nonzero)"
   ]
  },
  {
   "cell_type": "code",
   "execution_count": 11,
   "metadata": {},
   "outputs": [],
   "source": [
    "test3 = pd.DataFrame(test2)"
   ]
  },
  {
   "cell_type": "code",
   "execution_count": 12,
   "metadata": {},
   "outputs": [],
   "source": [
    "test4 = test3.reset_index()"
   ]
  },
  {
   "cell_type": "code",
   "execution_count": 13,
   "metadata": {},
   "outputs": [],
   "source": [
    "test4.set_index('user_id', inplace=True)"
   ]
  },
  {
   "cell_type": "code",
   "execution_count": 14,
   "metadata": {},
   "outputs": [],
   "source": [
    "test4.rename(columns={'timestamp': 'playcount'}, inplace=True)"
   ]
  },
  {
   "cell_type": "code",
   "execution_count": 15,
   "metadata": {},
   "outputs": [],
   "source": [
    "total_plays_df = test4.groupby('user_id').sum()"
   ]
  },
  {
   "cell_type": "code",
   "execution_count": 16,
   "metadata": {},
   "outputs": [],
   "source": [
    "total_plays_df.rename(columns={'playcount': 'user_total_plays'}, inplace=True)"
   ]
  },
  {
   "cell_type": "code",
   "execution_count": 17,
   "metadata": {},
   "outputs": [],
   "source": [
    "song_df = test4.join(total_plays_df)"
   ]
  },
  {
   "cell_type": "code",
   "execution_count": 18,
   "metadata": {},
   "outputs": [],
   "source": [
    "song_df['score'] = song_df.playcount / song_df.user_total_plays"
   ]
  },
  {
   "cell_type": "code",
   "execution_count": 19,
   "metadata": {
    "scrolled": true
   },
   "outputs": [
    {
     "data": {
      "text/html": [
       "<div>\n",
       "<style scoped>\n",
       "    .dataframe tbody tr th:only-of-type {\n",
       "        vertical-align: middle;\n",
       "    }\n",
       "\n",
       "    .dataframe tbody tr th {\n",
       "        vertical-align: top;\n",
       "    }\n",
       "\n",
       "    .dataframe thead th {\n",
       "        text-align: right;\n",
       "    }\n",
       "</style>\n",
       "<table border=\"1\" class=\"dataframe\">\n",
       "  <thead>\n",
       "    <tr style=\"text-align: right;\">\n",
       "      <th></th>\n",
       "      <th>song</th>\n",
       "      <th>artist</th>\n",
       "      <th>playcount</th>\n",
       "      <th>user_total_plays</th>\n",
       "      <th>score</th>\n",
       "    </tr>\n",
       "    <tr>\n",
       "      <th>user_id</th>\n",
       "      <th></th>\n",
       "      <th></th>\n",
       "      <th></th>\n",
       "      <th></th>\n",
       "      <th></th>\n",
       "    </tr>\n",
       "  </thead>\n",
       "  <tbody>\n",
       "    <tr>\n",
       "      <th>user_000001</th>\n",
       "      <td>'84 Pontiac Dream</td>\n",
       "      <td>Boards Of Canada</td>\n",
       "      <td>14</td>\n",
       "      <td>16685</td>\n",
       "      <td>0.000839</td>\n",
       "    </tr>\n",
       "    <tr>\n",
       "      <th>user_000001</th>\n",
       "      <td>(All I Wanted Was To Make You) Feel Good</td>\n",
       "      <td>Bugge Wesseltoft</td>\n",
       "      <td>3</td>\n",
       "      <td>16685</td>\n",
       "      <td>0.000180</td>\n",
       "    </tr>\n",
       "    <tr>\n",
       "      <th>user_000001</th>\n",
       "      <td>(D)Ecaying Beauty</td>\n",
       "      <td>Richie Hawtin</td>\n",
       "      <td>1</td>\n",
       "      <td>16685</td>\n",
       "      <td>0.000060</td>\n",
       "    </tr>\n",
       "    <tr>\n",
       "      <th>user_000001</th>\n",
       "      <td>(Far From) Home</td>\n",
       "      <td>Tiga</td>\n",
       "      <td>1</td>\n",
       "      <td>16685</td>\n",
       "      <td>0.000060</td>\n",
       "    </tr>\n",
       "    <tr>\n",
       "      <th>user_000001</th>\n",
       "      <td>(Get Off Your) High Horse Lady</td>\n",
       "      <td>Oasis</td>\n",
       "      <td>1</td>\n",
       "      <td>16685</td>\n",
       "      <td>0.000060</td>\n",
       "    </tr>\n",
       "  </tbody>\n",
       "</table>\n",
       "</div>"
      ],
      "text/plain": [
       "                                                 song            artist  \\\n",
       "user_id                                                                   \n",
       "user_000001                         '84 Pontiac Dream  Boards Of Canada   \n",
       "user_000001  (All I Wanted Was To Make You) Feel Good  Bugge Wesseltoft   \n",
       "user_000001                         (D)Ecaying Beauty     Richie Hawtin   \n",
       "user_000001                           (Far From) Home              Tiga   \n",
       "user_000001            (Get Off Your) High Horse Lady             Oasis   \n",
       "\n",
       "             playcount  user_total_plays     score  \n",
       "user_id                                             \n",
       "user_000001         14             16685  0.000839  \n",
       "user_000001          3             16685  0.000180  \n",
       "user_000001          1             16685  0.000060  \n",
       "user_000001          1             16685  0.000060  \n",
       "user_000001          1             16685  0.000060  "
      ]
     },
     "execution_count": 19,
     "metadata": {},
     "output_type": "execute_result"
    }
   ],
   "source": [
    "song_df.head()"
   ]
  },
  {
   "cell_type": "code",
   "execution_count": 20,
   "metadata": {},
   "outputs": [],
   "source": [
    "percentile = pd.DataFrame(song_df.groupby('user_id').score.quantile(.95))"
   ]
  },
  {
   "cell_type": "code",
   "execution_count": 23,
   "metadata": {},
   "outputs": [],
   "source": [
    "test = song_df.join(percentile, rsuffix='95percentile')\n"
   ]
  },
  {
   "cell_type": "code",
   "execution_count": 25,
   "metadata": {},
   "outputs": [
    {
     "data": {
      "text/html": [
       "<div>\n",
       "<style scoped>\n",
       "    .dataframe tbody tr th:only-of-type {\n",
       "        vertical-align: middle;\n",
       "    }\n",
       "\n",
       "    .dataframe tbody tr th {\n",
       "        vertical-align: top;\n",
       "    }\n",
       "\n",
       "    .dataframe thead th {\n",
       "        text-align: right;\n",
       "    }\n",
       "</style>\n",
       "<table border=\"1\" class=\"dataframe\">\n",
       "  <thead>\n",
       "    <tr style=\"text-align: right;\">\n",
       "      <th></th>\n",
       "      <th>song</th>\n",
       "      <th>artist</th>\n",
       "      <th>playcount</th>\n",
       "      <th>user_total_plays</th>\n",
       "      <th>score</th>\n",
       "      <th>score95percentile</th>\n",
       "    </tr>\n",
       "    <tr>\n",
       "      <th>user_id</th>\n",
       "      <th></th>\n",
       "      <th></th>\n",
       "      <th></th>\n",
       "      <th></th>\n",
       "      <th></th>\n",
       "      <th></th>\n",
       "    </tr>\n",
       "  </thead>\n",
       "  <tbody>\n",
       "    <tr>\n",
       "      <th>user_000001</th>\n",
       "      <td>15 Step</td>\n",
       "      <td>Radiohead</td>\n",
       "      <td>24</td>\n",
       "      <td>16685</td>\n",
       "      <td>0.001438</td>\n",
       "      <td>0.001139</td>\n",
       "    </tr>\n",
       "    <tr>\n",
       "      <th>user_000001</th>\n",
       "      <td>1:1</td>\n",
       "      <td>Wass</td>\n",
       "      <td>19</td>\n",
       "      <td>16685</td>\n",
       "      <td>0.001139</td>\n",
       "      <td>0.001139</td>\n",
       "    </tr>\n",
       "    <tr>\n",
       "      <th>user_000001</th>\n",
       "      <td>33 000 Honeybees</td>\n",
       "      <td>Minilogue</td>\n",
       "      <td>19</td>\n",
       "      <td>16685</td>\n",
       "      <td>0.001139</td>\n",
       "      <td>0.001139</td>\n",
       "    </tr>\n",
       "    <tr>\n",
       "      <th>user_000001</th>\n",
       "      <td>A Black Man In Space (Sax Mix)</td>\n",
       "      <td>Gilles Peterson</td>\n",
       "      <td>21</td>\n",
       "      <td>16685</td>\n",
       "      <td>0.001259</td>\n",
       "      <td>0.001139</td>\n",
       "    </tr>\n",
       "    <tr>\n",
       "      <th>user_000001</th>\n",
       "      <td>A.O.R. (Feat. Lina Ohta)</td>\n",
       "      <td>Towa Tei</td>\n",
       "      <td>27</td>\n",
       "      <td>16685</td>\n",
       "      <td>0.001618</td>\n",
       "      <td>0.001139</td>\n",
       "    </tr>\n",
       "  </tbody>\n",
       "</table>\n",
       "</div>"
      ],
      "text/plain": [
       "                                       song           artist  playcount  \\\n",
       "user_id                                                                   \n",
       "user_000001                         15 Step        Radiohead         24   \n",
       "user_000001                             1:1             Wass         19   \n",
       "user_000001                33 000 Honeybees        Minilogue         19   \n",
       "user_000001  A Black Man In Space (Sax Mix)  Gilles Peterson         21   \n",
       "user_000001        A.O.R. (Feat. Lina Ohta)         Towa Tei         27   \n",
       "\n",
       "             user_total_plays     score  score95percentile  \n",
       "user_id                                                     \n",
       "user_000001             16685  0.001438           0.001139  \n",
       "user_000001             16685  0.001139           0.001139  \n",
       "user_000001             16685  0.001139           0.001139  \n",
       "user_000001             16685  0.001259           0.001139  \n",
       "user_000001             16685  0.001618           0.001139  "
      ]
     },
     "execution_count": 25,
     "metadata": {},
     "output_type": "execute_result"
    }
   ],
   "source": [
    "song_df_above_95 = test[test['score'] >= test['score95percentile']]\n",
    "song_df_above_95.head()"
   ]
  },
  {
   "cell_type": "code",
   "execution_count": 26,
   "metadata": {},
   "outputs": [
    {
     "name": "stderr",
     "output_type": "stream",
     "text": [
      "/Users/briansrebrenik/anaconda3/lib/python3.6/site-packages/pandas/core/frame.py:3694: SettingWithCopyWarning: \n",
      "A value is trying to be set on a copy of a slice from a DataFrame\n",
      "\n",
      "See the caveats in the documentation: http://pandas.pydata.org/pandas-docs/stable/indexing.html#indexing-view-versus-copy\n",
      "  errors=errors)\n"
     ]
    },
    {
     "data": {
      "text/html": [
       "<div>\n",
       "<style scoped>\n",
       "    .dataframe tbody tr th:only-of-type {\n",
       "        vertical-align: middle;\n",
       "    }\n",
       "\n",
       "    .dataframe tbody tr th {\n",
       "        vertical-align: top;\n",
       "    }\n",
       "\n",
       "    .dataframe thead th {\n",
       "        text-align: right;\n",
       "    }\n",
       "</style>\n",
       "<table border=\"1\" class=\"dataframe\">\n",
       "  <thead>\n",
       "    <tr style=\"text-align: right;\">\n",
       "      <th></th>\n",
       "      <th>song</th>\n",
       "      <th>artist</th>\n",
       "      <th>playcount</th>\n",
       "      <th>user_total_plays</th>\n",
       "      <th>score</th>\n",
       "    </tr>\n",
       "    <tr>\n",
       "      <th>user_id</th>\n",
       "      <th></th>\n",
       "      <th></th>\n",
       "      <th></th>\n",
       "      <th></th>\n",
       "      <th></th>\n",
       "    </tr>\n",
       "  </thead>\n",
       "  <tbody>\n",
       "    <tr>\n",
       "      <th>user_000001</th>\n",
       "      <td>15 Step</td>\n",
       "      <td>Radiohead</td>\n",
       "      <td>24</td>\n",
       "      <td>16685</td>\n",
       "      <td>0.001438</td>\n",
       "    </tr>\n",
       "    <tr>\n",
       "      <th>user_000001</th>\n",
       "      <td>1:1</td>\n",
       "      <td>Wass</td>\n",
       "      <td>19</td>\n",
       "      <td>16685</td>\n",
       "      <td>0.001139</td>\n",
       "    </tr>\n",
       "    <tr>\n",
       "      <th>user_000001</th>\n",
       "      <td>33 000 Honeybees</td>\n",
       "      <td>Minilogue</td>\n",
       "      <td>19</td>\n",
       "      <td>16685</td>\n",
       "      <td>0.001139</td>\n",
       "    </tr>\n",
       "    <tr>\n",
       "      <th>user_000001</th>\n",
       "      <td>A Black Man In Space (Sax Mix)</td>\n",
       "      <td>Gilles Peterson</td>\n",
       "      <td>21</td>\n",
       "      <td>16685</td>\n",
       "      <td>0.001259</td>\n",
       "    </tr>\n",
       "    <tr>\n",
       "      <th>user_000001</th>\n",
       "      <td>A.O.R. (Feat. Lina Ohta)</td>\n",
       "      <td>Towa Tei</td>\n",
       "      <td>27</td>\n",
       "      <td>16685</td>\n",
       "      <td>0.001618</td>\n",
       "    </tr>\n",
       "  </tbody>\n",
       "</table>\n",
       "</div>"
      ],
      "text/plain": [
       "                                       song           artist  playcount  \\\n",
       "user_id                                                                   \n",
       "user_000001                         15 Step        Radiohead         24   \n",
       "user_000001                             1:1             Wass         19   \n",
       "user_000001                33 000 Honeybees        Minilogue         19   \n",
       "user_000001  A Black Man In Space (Sax Mix)  Gilles Peterson         21   \n",
       "user_000001        A.O.R. (Feat. Lina Ohta)         Towa Tei         27   \n",
       "\n",
       "             user_total_plays     score  \n",
       "user_id                                  \n",
       "user_000001             16685  0.001438  \n",
       "user_000001             16685  0.001139  \n",
       "user_000001             16685  0.001139  \n",
       "user_000001             16685  0.001259  \n",
       "user_000001             16685  0.001618  "
      ]
     },
     "execution_count": 26,
     "metadata": {},
     "output_type": "execute_result"
    }
   ],
   "source": [
    "song_df_above_95.drop(columns=['score95percentile'], inplace=True)\n",
    "song_df_above_95.head()"
   ]
  },
  {
   "cell_type": "code",
   "execution_count": 27,
   "metadata": {},
   "outputs": [
    {
     "data": {
      "text/plain": [
       "298174"
      ]
     },
     "execution_count": 27,
     "metadata": {},
     "output_type": "execute_result"
    }
   ],
   "source": [
    "len(song_df_above_95)"
   ]
  },
  {
   "cell_type": "code",
   "execution_count": 29,
   "metadata": {},
   "outputs": [],
   "source": [
    "song_artist_list = list(zip(song_df_above_95.song, song_df_above_95.artist))"
   ]
  },
  {
   "cell_type": "code",
   "execution_count": 30,
   "metadata": {},
   "outputs": [],
   "source": [
    "song_artist_list = list(set(song_artist_list))"
   ]
  },
  {
   "cell_type": "code",
   "execution_count": 31,
   "metadata": {},
   "outputs": [
    {
     "data": {
      "text/plain": [
       "176312"
      ]
     },
     "execution_count": 31,
     "metadata": {},
     "output_type": "execute_result"
    }
   ],
   "source": [
    "len(song_artist_list)"
   ]
  },
  {
   "cell_type": "markdown",
   "metadata": {},
   "source": [
    "#### Spotify API"
   ]
  },
  {
   "cell_type": "code",
   "execution_count": 32,
   "metadata": {},
   "outputs": [
    {
     "name": "stdout",
     "output_type": "stream",
     "text": [
      "{\"access_token\":\"BQDqIsNyztPnZrHs7pOh_tbXlhaGGg0KtXxha-J5xBKwNAoBV6fzeZzSCDa5D4nptPI-LW3N3S4F44soUrs\",\"token_type\":\"Bearer\",\"expires_in\":3600,\"scope\":\"\"}\n"
     ]
    }
   ],
   "source": [
    "import requests\n",
    "client_id = '8787e23c39884c2b98026feff5b7acde'\n",
    "client_secret = '94d8c07f39f841739a58e5e12c9e5e86'\n",
    "\n",
    "grant_type = 'client_credentials'\n",
    "\n",
    "#Request based on Client Credentials Flow from https://developer.spotify.com/web-api/authorization-guide/\n",
    "\n",
    "#Request body parameter: grant_type Value: Required. Set it to client_credentials\n",
    "body_params = {'grant_type' : grant_type}\n",
    "\n",
    "url='https://accounts.spotify.com/api/token'\n",
    "\n",
    "response=requests.post(url, data=body_params, auth = (client_id, client_secret)) \n",
    "print(response.text)"
   ]
  },
  {
   "cell_type": "code",
   "execution_count": 33,
   "metadata": {},
   "outputs": [],
   "source": [
    "access_token = 'BQDqIsNyztPnZrHs7pOh_tbXlhaGGg0KtXxha-J5xBKwNAoBV6fzeZzSCDa5D4nptPI-LW3N3S4F44soUrs'\n",
    "headers = {'Authorization': 'Bearer '+ access_token}"
   ]
  },
  {
   "cell_type": "code",
   "execution_count": 34,
   "metadata": {},
   "outputs": [],
   "source": [
    "r = requests.get('https://api.spotify.com/v1/search?q=artist:Kendrick%20lamar%20track:humble&type=track', headers=headers)"
   ]
  },
  {
   "cell_type": "code",
   "execution_count": 35,
   "metadata": {},
   "outputs": [],
   "source": [
    "data = r.json()\n"
   ]
  },
  {
   "cell_type": "code",
   "execution_count": 36,
   "metadata": {},
   "outputs": [
    {
     "data": {
      "text/plain": [
       "'7KXjTSCq5nL1LoYtL7XAwS'"
      ]
     },
     "execution_count": 36,
     "metadata": {},
     "output_type": "execute_result"
    }
   ],
   "source": [
    "data['tracks']['items'][0]['id']"
   ]
  },
  {
   "cell_type": "code",
   "execution_count": 37,
   "metadata": {},
   "outputs": [],
   "source": [
    "from tqdm import tqdm\n",
    "def get_track_ids(tracklist):\n",
    "    id_list = {}\n",
    "    for track in tqdm(tracklist):\n",
    "        artist = track[1].replace(\" \", \"%20\")\n",
    "        song = track[0].replace(\" \", \"%20\")\n",
    "        try:\n",
    "            r = requests.get(f'https://api.spotify.com/v1/search?q=artist:{artist}%20track:{song}&type=track', headers=headers)\n",
    "            data = r.json()\n",
    "            track_id = data['tracks']['items'][0]['id']\n",
    "            id_list[track] = track_id\n",
    "        except:\n",
    "            id_list[track] = \"NA\"\n",
    "    return id_list"
   ]
  },
  {
   "cell_type": "code",
   "execution_count": null,
   "metadata": {},
   "outputs": [
    {
     "name": "stderr",
     "output_type": "stream",
     "text": [
      "  1%|          | 1648/176312 [04:37<6:29:17,  7.48it/s] "
     ]
    }
   ],
   "source": [
    "ids = get_track_ids(song_artist_list)"
   ]
  },
  {
   "cell_type": "markdown",
   "metadata": {},
   "source": [
    "#### getting audio features from spotify API"
   ]
  },
  {
   "cell_type": "code",
   "execution_count": null,
   "metadata": {},
   "outputs": [],
   "source": [
    "confirmed_ids = [(x,y) for x,y in ids.items() if y != 'NA']"
   ]
  },
  {
   "cell_type": "code",
   "execution_count": null,
   "metadata": {},
   "outputs": [],
   "source": [
    "r = requests.get('https://api.spotify.com/v1/audio-features/3fKwZ4VianLX1c7XsaUlUw', headers=headers)"
   ]
  },
  {
   "cell_type": "code",
   "execution_count": null,
   "metadata": {},
   "outputs": [],
   "source": [
    "data = r.json()"
   ]
  },
  {
   "cell_type": "code",
   "execution_count": null,
   "metadata": {},
   "outputs": [],
   "source": [
    "def get_track_features(track_id):\n",
    "    r = requests.get(f'https://api.spotify.com/v1/audio-features/{track_id}', headers=headers)\n",
    "    data = r.json()\n",
    "    return data"
   ]
  },
  {
   "cell_type": "code",
   "execution_count": null,
   "metadata": {},
   "outputs": [],
   "source": [
    "features = {}\n",
    "for x, y in tqdm(confirmed_ids):\n",
    "    try:\n",
    "        features[x] = get_track_features(y)\n",
    "    except:\n",
    "        features[x] = 'NA'"
   ]
  },
  {
   "cell_type": "code",
   "execution_count": null,
   "metadata": {},
   "outputs": [],
   "source": [
    "features_df.reset_index(inplace=True)"
   ]
  },
  {
   "cell_type": "code",
   "execution_count": null,
   "metadata": {},
   "outputs": [],
   "source": [
    "features_df.index = [x[0] for x in confirmed_ids]\n",
    "features_df['spotify_id'] = [x[1] for x in confirmed_ids]"
   ]
  },
  {
   "cell_type": "code",
   "execution_count": null,
   "metadata": {},
   "outputs": [],
   "source": [
    "features_df.columns"
   ]
  },
  {
   "cell_type": "code",
   "execution_count": null,
   "metadata": {},
   "outputs": [],
   "source": [
    "features_df.drop(columns=['level_0', 'level_1', 'analysis_url', 'error', 'track_href', 'type', 'id', 'uri'], inplace=True)"
   ]
  },
  {
   "cell_type": "code",
   "execution_count": null,
   "metadata": {},
   "outputs": [],
   "source": []
  },
  {
   "cell_type": "code",
   "execution_count": null,
   "metadata": {},
   "outputs": [],
   "source": []
  }
 ],
 "metadata": {
  "kernelspec": {
   "display_name": "Python 3",
   "language": "python",
   "name": "python3"
  },
  "language_info": {
   "codemirror_mode": {
    "name": "ipython",
    "version": 3
   },
   "file_extension": ".py",
   "mimetype": "text/x-python",
   "name": "python",
   "nbconvert_exporter": "python",
   "pygments_lexer": "ipython3",
   "version": "3.6.5"
  }
 },
 "nbformat": 4,
 "nbformat_minor": 2
}
